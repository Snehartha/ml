{
  "nbformat": 4,
  "nbformat_minor": 0,
  "metadata": {
    "colab": {
      "provenance": []
    },
    "kernelspec": {
      "name": "python3",
      "display_name": "Python 3"
    },
    "language_info": {
      "name": "python"
    }
  },
  "cells": [
    {
      "cell_type": "code",
      "execution_count": 7,
      "metadata": {
        "colab": {
          "base_uri": "https://localhost:8080/"
        },
        "id": "BCqu3MRB5JK9",
        "outputId": "0f5651ad-6225-4b13-c38d-84e64f85bc82"
      },
      "outputs": [
        {
          "output_type": "stream",
          "name": "stderr",
          "text": [
            "[nltk_data] Downloading package punkt to /root/nltk_data...\n",
            "[nltk_data]   Package punkt is already up-to-date!\n"
          ]
        }
      ],
      "source": [
        "import nltk\n",
        "nltk.download('punkt')\n",
        "\n",
        "from sklearn.feature_extraction.text import TfidfVectorizer\n",
        "from sklearn.metrics.pairwise import cosine_similarity\n"
      ]
    },
    {
      "cell_type": "code",
      "source": [
        "faq_data={\n",
        "    \"What is the return policy?\":\"You can return any item within 30 days of purchase if it meets our retrun guidelines\",\n",
        "    \"How can I track my Order?\":\"once your order is shipped, you'll receive a tracking number. You can track using that number\",\n",
        "    \"What payment methods do you accept?\":\"We accept VISA, Mastercard, and American Express\",\n",
        "    \"How can I contact customer support?\":\"You can contact our customer support at 123-456-7890\",\n",
        "    \"Do you offer International Shipping\":\"Yes, we Offer international shipping to selceted countries\",\n",
        "}\n",
        "\n",
        "questions=list(faq_data.keys())\n",
        "answers=list(faq_data.values())\n",
        "\n",
        "\n",
        "\n"
      ],
      "metadata": {
        "id": "shR7EqNo6L6U"
      },
      "execution_count": 11,
      "outputs": []
    },
    {
      "cell_type": "code",
      "source": [
        "vectorizer=TfidfVectorizer()\n",
        "\n",
        "matrix=vectorizer.fit_transform(questions)\n",
        "\n",
        "\n",
        "def get_answer(user_query):\n",
        "  query=vectorizer.transform([user_query])\n",
        "\n",
        "  similarity=cosine_similarity(query,matrix)\n",
        "\n",
        "  match_index=similarity.argmax()\n",
        "  match_score=similarity[0,match_index]\n",
        "\n",
        "  threshold=0.1\n",
        "\n",
        "  if  match_score >=threshold:\n",
        "       return answers[match_index]\n",
        "  else:\n",
        "    return \"contact support\"\n"
      ],
      "metadata": {
        "id": "QoEJ4H_sDs2g"
      },
      "execution_count": 12,
      "outputs": []
    },
    {
      "cell_type": "code",
      "source": [
        "while True:\n",
        "  user_query=input()\n",
        "  if user_query.lower()=='exit':\n",
        "    print(\"thank you\")\n",
        "    break\n",
        "  response=get_answer(user_query)\n",
        "  print (response)"
      ],
      "metadata": {
        "colab": {
          "base_uri": "https://localhost:8080/"
        },
        "id": "bG37VDl5F0p6",
        "outputId": "93ea477e-d5d3-451d-cace-2413d617f42e"
      },
      "execution_count": 13,
      "outputs": [
        {
          "output_type": "stream",
          "name": "stdout",
          "text": [
            "payment methods\n",
            "We accept VISA, Mastercard, and American Express\n",
            "payment methods\n",
            "We accept VISA, Mastercard, and American Express\n",
            "exit\n",
            "thank you\n"
          ]
        }
      ]
    }
  ]
}